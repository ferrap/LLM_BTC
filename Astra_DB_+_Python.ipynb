{
  "nbformat": 4,
  "nbformat_minor": 0,
  "metadata": {
    "colab": {
      "provenance": [],
      "mount_file_id": "1DLDgXsvJpaLKNCil9TCA9m9OuKrFRDNw",
      "authorship_tag": "ABX9TyNfbK06At6H53PBcZAFejpK",
      "include_colab_link": true
    },
    "kernelspec": {
      "name": "python3",
      "display_name": "Python 3"
    },
    "language_info": {
      "name": "python"
    }
  },
  "cells": [
    {
      "cell_type": "markdown",
      "metadata": {
        "id": "view-in-github",
        "colab_type": "text"
      },
      "source": [
        "<a href=\"https://colab.research.google.com/github/ferrap/LLM_ETH/blob/main/Astra_DB_%2B_Python.ipynb\" target=\"_parent\"><img src=\"https://colab.research.google.com/assets/colab-badge.svg\" alt=\"Open In Colab\"/></a>"
      ]
    },
    {
      "cell_type": "markdown",
      "source": [
        "# Install **DataStax Python** driver"
      ],
      "metadata": {
        "id": "bNyPElZC0tpS"
      }
    },
    {
      "cell_type": "code",
      "execution_count": null,
      "metadata": {
        "id": "kq3BSmjRXHjA"
      },
      "outputs": [],
      "source": [
        "pip install cassandra-driver"
      ]
    },
    {
      "cell_type": "markdown",
      "source": [
        "Verify Python driver installation and version"
      ],
      "metadata": {
        "id": "QxFCxAyc0jTR"
      }
    },
    {
      "cell_type": "code",
      "source": [
        "import cassandra\n",
        "print (cassandra.__version__)"
      ],
      "metadata": {
        "id": "9XDkvO6qXLZj"
      },
      "execution_count": null,
      "outputs": []
    },
    {
      "cell_type": "markdown",
      "source": [
        "# Connect to Astra DB using the **Secure Connect Bundle** and setup the cluster connection\n",
        "\n"
      ],
      "metadata": {
        "id": "fp5Bt9qG0grj"
      }
    },
    {
      "cell_type": "code",
      "source": [
        "from cassandra.cluster import Cluster\n",
        "from cassandra.auth import PlainTextAuthProvider\n",
        "\n",
        "cloud_config= {\n",
        "  'secure_connect_bundle': '/content/drive/MyDrive/secure-connect-workshops.zip'\n",
        "}\n",
        "auth_provider = PlainTextAuthProvider('KcZsXDTwQkbvhMgqIJzSnaTk', 'rz8gHPnIf74ftqeotc734Fg9dHK4uWSo5G5EsJb9nz+kO6aKE9yqZPnJhQ1l2QcqZOw6QIXSDGQQcBtwpBALEN9R.jWDc_CWaI+nc.s0hauRwnT8pg2ePsmPAOlhqD49')\n",
        "cluster = Cluster(cloud=cloud_config, auth_provider=auth_provider)\n",
        "\n",
        "#USE the ecommerce keyspace\n",
        "session = cluster.connect(\"ecommerce\")\n"
      ],
      "metadata": {
        "id": "309s2MqDXUoR"
      },
      "execution_count": null,
      "outputs": []
    },
    {
      "cell_type": "markdown",
      "source": [
        "Verify connection to Astra DB checking the cluster name, version and number of nodes"
      ],
      "metadata": {
        "id": "kZjqGk4p195u"
      }
    },
    {
      "cell_type": "code",
      "source": [
        "cass_output_1 = session.execute(\"SELECT cluster_name, release_version FROM system.local\")\n",
        "for cass_row in cass_output_1:\n",
        "  output_message = \"Connected to \" + str(cass_row.cluster_name) + \" and it is running \" + str(cass_row.release_version) + \" version.\"\n",
        "print(output_message)\n",
        "\n",
        "cass_output_2 = session.execute(\"SELECT count(1) AS nodes_count FROM system.peers\")\n",
        "for cass_row in cass_output_2:\n",
        "  output_message = \"This cluster contains \" + str(cass_row.nodes_count+1) + \" nodes.\"\n",
        "print(output_message)"
      ],
      "metadata": {
        "id": "3XAYquwNgDHx"
      },
      "execution_count": null,
      "outputs": []
    },
    {
      "cell_type": "markdown",
      "source": [
        "# Create new table *cart_products* in the CQL console on Astra DB\n",
        "\n",
        "\n",
        "\n",
        "```\n",
        "CREATE TABLE IF NOT EXISTS cart_products (\n",
        "    cart_id uuid,\n",
        "    product_timestamp timestamp,\n",
        "    product_name text,\n",
        "    quantity int,\n",
        "    product_description text,\n",
        "    PRIMARY KEY (cart_id, product_name)\n",
        ");\n",
        "```\n",
        "\n",
        "\n",
        "\n",
        "\n",
        "\n"
      ],
      "metadata": {
        "id": "lfGQJrqSx59Z"
      }
    },
    {
      "cell_type": "markdown",
      "source": [
        "# Simulate shopping cart data"
      ],
      "metadata": {
        "id": "VSnt5kxWVHQ6"
      }
    },
    {
      "cell_type": "markdown",
      "source": [
        "Use *BatchStatement* to run multiple statements (**INSERT**) into a single atomic transaction"
      ],
      "metadata": {
        "id": "9pBHeMLPpyfB"
      }
    },
    {
      "cell_type": "code",
      "source": [
        "import uuid\n",
        "import random\n",
        "import datetime\n",
        "import time\n",
        "from cassandra.query import BatchStatement\n",
        "\n",
        "\n",
        "# opening the file in read mode\n",
        "products_txt = open(\"/content/drive/MyDrive/fruits.txt\", \"r\")\n",
        "descriptions_txt = open(\"/content/drive/MyDrive/descriptions.txt\", \"r\")\n",
        "# reading the file\n",
        "data_products = products_txt.read()\n",
        "data_descriptions = descriptions_txt.read()\n",
        "# replacing end splitting the text when newline ('\\n') is seen.\n",
        "fruits_list = data_products.split(\"\\n\")\n",
        "descriptions_list = data_descriptions.split(\"\\n\")\n",
        "\n",
        "cart_id = uuid.uuid4()\n",
        "insertCart = 'INSERT INTO cart_products (cart_id,product_timestamp,product_name,quantity,product_description) VALUES (?,?,?,?,?)'\n",
        "\n",
        "print('========================================')\n",
        "\n",
        "try:\n",
        "\n",
        "  prepared_insertCart = session.prepare(insertCart)\n",
        "  batch = BatchStatement()\n",
        "\n",
        "  for name, description in zip(fruits_list,descriptions_list):\n",
        "\n",
        "    product_timestamp = datetime.datetime.now()\n",
        "    quantity = random.randrange(1,5)\n",
        "    product_name = name\n",
        "    product_description = description\n",
        "\n",
        "    batch.add(prepared_insertCart, [cart_id,product_timestamp,product_name,quantity,product_description])\n",
        "    print(str(quantity) + ' ' + product_name + ' added to cart at '+ str(product_timestamp) + ' with Success!')\n",
        "\n",
        "    time.sleep(0.1)\n",
        "\n",
        "  session.execute(batch)\n",
        "\n",
        "except Exception as e:\n",
        "    print(e)\n",
        "    print('An error occured')\n",
        "\n",
        "else:\n",
        "  print('\\n')\n",
        "  print(str(len(fruits_list)) + ' rows added to the cart_products table with Success!')\n",
        "\n",
        "print('========================================')"
      ],
      "metadata": {
        "id": "YMmeszGvm1zO"
      },
      "execution_count": null,
      "outputs": []
    },
    {
      "cell_type": "markdown",
      "source": [
        "# **READ** statement"
      ],
      "metadata": {
        "id": "lswEPmO53DNN"
      }
    },
    {
      "cell_type": "code",
      "source": [
        "print('========================================')\n",
        "\n",
        "try:\n",
        "\n",
        "    output = session.execute(\n",
        "        \"SELECT * FROM cart_products\"\n",
        "    )\n",
        "    for row in output:\n",
        "       print('Product Name:', row.product_name, 'Quantity:', row.quantity,'Time:', row.product_timestamp, 'Description:', row.product_description)\n",
        "\n",
        "except Exception as e:\n",
        "    print(e)\n",
        "    print('An error occured')\n",
        "\n",
        "\n",
        "print('========================================')"
      ],
      "metadata": {
        "id": "9cNK054LEX5i"
      },
      "execution_count": null,
      "outputs": []
    },
    {
      "cell_type": "code",
      "source": [
        "print('========================================')\n",
        "\n",
        "try:\n",
        "\n",
        "    output = session.execute(\n",
        "        \"SELECT * FROM cart_products WHERE cart_id  = %s and product_name = %s\",\n",
        "        [cart_id, 'Banana']\n",
        "    )\n",
        "    for row in output:\n",
        "       print('Product Name:', row.product_name, 'Quantity:', row.quantity,'Time:', row.product_timestamp, 'Description:', row.product_description)\n",
        "\n",
        "except Exception as e:\n",
        "    print(e)\n",
        "    print('An error occured')\n",
        "\n",
        "\n",
        "print('========================================')"
      ],
      "metadata": {
        "id": "3TyXTgO61BAO"
      },
      "execution_count": null,
      "outputs": []
    },
    {
      "cell_type": "markdown",
      "source": [
        "# **UPDATE** statement"
      ],
      "metadata": {
        "id": "I-0W5ErNkmZM"
      }
    },
    {
      "cell_type": "code",
      "source": [
        "product_description = 'Curved, potassium-packed chuckle fruit'\n",
        "\n",
        "print(\"========================================\")\n",
        "\n",
        "try:\n",
        "\n",
        "    session.execute(\n",
        "        \"UPDATE cart_products SET product_description=%s WHERE cart_id= %s AND product_name= %s\",\n",
        "        [product_description, cart_id, 'Banana' ])\n",
        "\n",
        "except Exception as e:\n",
        "    print(e)\n",
        "    print('An error occured')\n",
        "else:\n",
        "    print('Product description updated with Success!')\n",
        "\n",
        "\n",
        "print('========================================')"
      ],
      "metadata": {
        "id": "pfRgzB-hqjcM"
      },
      "execution_count": null,
      "outputs": []
    },
    {
      "cell_type": "code",
      "source": [
        "print('========================================')\n",
        "\n",
        "try:\n",
        "\n",
        "    output = session.execute(\n",
        "        \"SELECT * FROM cart_products WHERE cart_id  = %s and product_name = %s\",\n",
        "        [cart_id, 'Banana']\n",
        "    )\n",
        "    for row in output:\n",
        "       print('Product Name:', row.product_name, 'Quantity:', row.quantity,'Time:', row.product_timestamp, 'Description:', row.product_description)\n",
        "\n",
        "except Exception as e:\n",
        "    print(e)\n",
        "    print('An error occured')\n",
        "\n",
        "\n",
        "print('========================================')"
      ],
      "metadata": {
        "id": "TTarGnRnuuRX"
      },
      "execution_count": null,
      "outputs": []
    },
    {
      "cell_type": "markdown",
      "source": [
        "# **DELETE** statement"
      ],
      "metadata": {
        "id": "xsXwXiU3ra4M"
      }
    },
    {
      "cell_type": "code",
      "source": [
        "print(\"========================================\")\n",
        "\n",
        "try:\n",
        "\n",
        "    session.execute(\n",
        "        \"DELETE FROM cart_products WHERE cart_id= %s AND product_name= %s\",\n",
        "        [cart_id, 'Apple' ])\n",
        "\n",
        "except Exception as e:\n",
        "    print(e)\n",
        "    print('An error occured')\n",
        "else:\n",
        "    print('Row deleted with Success!')\n",
        "\n",
        "print(\"========================================\")"
      ],
      "metadata": {
        "id": "IE3WWPj1vQiU"
      },
      "execution_count": null,
      "outputs": []
    },
    {
      "cell_type": "markdown",
      "source": [
        "# **EDA** with pandas"
      ],
      "metadata": {
        "id": "halTjyYYrhdY"
      }
    },
    {
      "cell_type": "code",
      "source": [
        "import pandas as pd"
      ],
      "metadata": {
        "id": "j9oFZ29CxGJe"
      },
      "execution_count": null,
      "outputs": []
    },
    {
      "cell_type": "code",
      "source": [
        "def pandas_factory(colnames, rows):\n",
        "    return pd.DataFrame(rows, columns=colnames)\n",
        "\n",
        "session.row_factory = pandas_factory\n",
        "session.default_fetch_size = None\n",
        "\n",
        "query = \"select * from cart_products\"\n",
        "rslt = session.execute(query, timeout=None)\n",
        "df = rslt._current_rows"
      ],
      "metadata": {
        "id": "hrheFvn232-F"
      },
      "execution_count": null,
      "outputs": []
    },
    {
      "cell_type": "code",
      "source": [
        "df"
      ],
      "metadata": {
        "id": "jwXRO9f74MyU"
      },
      "execution_count": null,
      "outputs": []
    },
    {
      "cell_type": "code",
      "source": [
        "import matplotlib.pyplot as plt\n",
        "\n",
        "data = df.sort_values(by='product_timestamp')\n",
        "plt.figure(figsize=(10, 6))\n",
        "plt.plot(data['product_timestamp'], data['quantity'])\n",
        "plt.title('Time vs. Quantity')\n",
        "plt.xlabel('Product Timestamp')\n",
        "plt.ylabel('Quantity')\n",
        "plt.xticks(rotation=45)\n",
        "plt.tight_layout()\n",
        "plt.show()\n"
      ],
      "metadata": {
        "id": "ZB7_NxkSf9r-"
      },
      "execution_count": null,
      "outputs": []
    },
    {
      "cell_type": "code",
      "source": [],
      "metadata": {
        "id": "3gzNkkL27Akr"
      },
      "execution_count": null,
      "outputs": []
    }
  ]
}